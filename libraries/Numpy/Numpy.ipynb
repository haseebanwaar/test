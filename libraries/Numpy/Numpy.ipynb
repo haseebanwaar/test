{
 "cells": [
  {
   "cell_type": "markdown",
   "source": [
    "# Numpy"
   ],
   "metadata": {
    "collapsed": false,
    "pycharm": {
     "name": "#%% md\n"
    }
   }
  },
  {
   "cell_type": "code",
   "execution_count": 1,
   "outputs": [
    {
     "name": "stdout",
     "output_type": "stream",
     "text": [
      "hi\n"
     ]
    }
   ],
   "source": [
    "\n",
    "import numpy as np\n",
    "\n",
    "# Initializing numpy array\n",
    "x =np.zeros((3,5),dtype=int)\n",
    "\n",
    "np.ones_like(x)\n",
    "\n",
    "np.full_like(x,3)\n",
    "\n",
    "np.identity(3)\n",
    "\n",
    "np.diag([1,2,3,4])\n",
    "\n",
    "np.arange(0,11,2)\n",
    "\n",
    "np.linspace(0,25,10)\n",
    "\n",
    "np.reshape(x,[3,3])\n",
    "\n",
    "np.linspace(0,50,20).reshape([5,4])\n",
    "\n",
    "np.random.random([4,3])\n",
    "\n",
    "np.random.randint(2,8,[3,3])\n",
    "\n",
    "np.random.normal(0,10,[50,50])  #0 mean, 10 STD\n",
    "\n",
    "\n"
   ],
   "metadata": {
    "collapsed": false,
    "pycharm": {
     "name": "#%%\n"
    }
   }
  },
  {
   "cell_type": "code",
   "execution_count": null,
   "outputs": [],
   "source": [
    "import numpy as np\n",
    "\n",
    "x = np.array([\n",
    "    [0.76021683, 0.23538932, 0.82001752],\n",
    "    [0.71836726, 0.43139469, 0.50619972],\n",
    "    [0.24757373, 0.02761646, 0.77621469],\n",
    "    [0.78063444, 0.51646522, 0.88814931],\n",
    "    [0.41655595, 0.2936441, 0.7060387]])\n",
    "\n",
    "x[1, 1] == x[1][1]\n",
    "\n",
    "# removes 0 and 2 column from array\n",
    "np.delete(x, [0, 2], axis=1)\n",
    "# removes 0 and 2 row from array\n",
    "np.delete(x, [0, 2], axis=0)\n",
    "# removes even index values from array\n",
    "np.delete(x, [*range(0, x.size, 2)])\n",
    "\n",
    "# append values\n",
    "np.append(x, [4, 5])\n",
    "np.append(x, [[4, 4, 4]], axis=0)\n",
    "np.append(x, [[4], [4], [4], [4], [4]], axis=1)\n",
    "\n",
    "# vertical stack\n",
    "np.vstack((x, [[4, 4, 4]]))\n",
    "# horizontal stack\n",
    "np.hstack((x, [[4], [4], [4], [4], [4]]))\n",
    "\n",
    "# insert at position these values\n",
    "np.insert(x, 9, [4, 5, 6, 7])\n",
    "# insert array at given row\n",
    "np.insert(x, 2, [4, 5, 6, ], axis=0)\n",
    "# insert array at given column\n",
    "np.insert(x, 2, [4, 5, 6, 7, 8], axis=1)\n",
    "\n",
    "# slicing\n",
    "x[1:4, 1]\n",
    "# If done this way, changes in y will chande vlues in x too\n",
    "y = x[0:3]\n",
    "y[2, 1] = 99\n",
    "\n",
    "# using of copy makes y independant of x\n",
    "y = x[0:3].copy()\n",
    "y[2, 1] = 99\n",
    "\n",
    "# same concept can be observed in nomal lists\n",
    "import copy\n",
    "\n",
    "xx = list([list(i) for i in x])\n",
    "yy = xx[:3]\n",
    "yy = copy.deepcopy(xx)\n",
    "yy[0][0] = 5555\n",
    "yy\n",
    "xx\n",
    "\n",
    "# extract diagonal\n",
    "np.diag(x)\n",
    "# offest by k\n",
    "np.diag(x, k=1)\n",
    "\n",
    "# get unique\n",
    "np.unique([4, 5, 6, 6])\n",
    "\n",
    "# specifies we need 1 column only, pack all stuff in one\n",
    "x.reshape(-1, 1)\n",
    "# specifies we need row column only, pack all stuff in one\n",
    "x.reshape(1, -1)\n",
    "\n",
    "# masking, conditioning\n",
    "x[(x > 3) | (x < 0.3)] = 33\n",
    "x[[False, False, False, True, False]]\n",
    "\n",
    "# set functions\n",
    "np.union1d(x, x * 2)\n",
    "np.intersect1d(x, x)\n",
    "np.setdiff1d(x, x)\n",
    "\n",
    "np.sort(x, axis=1)\n",
    "np.sort(x, axis=0)\n",
    "x.sort()\n",
    "\n",
    "# broadcasting\n",
    "x = np.ones(9, dtype=int).reshape(3, 3)\n",
    "y = np.ones(3, dtype=int).reshape(1, 3) + 1\n",
    "np.add(x, y)\n",
    "x + y\n",
    "# scalar\n",
    "np.add(x, 1)\n",
    "x + 1\n",
    "\n",
    "x = np.insert(x, 1, [[3], [3]], axis=1)\n",
    "# this thing works exactly for sum, std, min, max etc\n",
    "np.mean(x)\n",
    "np.mean(x, axis=0)\n",
    "np.mean(x, axis=1)\n",
    "\n",
    "# functions called with np.func(x) dont change the values of x while\n",
    "# funtions called with x.func will probably change x\n"
   ],
   "metadata": {
    "collapsed": false,
    "pycharm": {
     "name": "#%%\n"
    }
   }
  },
  {
   "cell_type": "code",
   "execution_count": null,
   "outputs": [],
   "source": [
    "#sub arrays also reversed\n",
    "x2[::-1, ::-1]\n",
    "\n",
    "\n",
    "# concatenate along the second axis (zero-indexed)\n",
    "np.concatenate([grid, grid], axis=1)"
   ],
   "metadata": {
    "collapsed": false,
    "pycharm": {
     "name": "#%%\n"
    }
   }
  },
  {
   "cell_type": "code",
   "execution_count": null,
   "outputs": [],
   "source": [
    "x = np.ones((3,3)) >>> x\n",
    "array([[ 1., 1., 1.], [ 1., 1., 1.], [ 1., 1., 1.]])\n",
    ">>> x[:,[0,1,2,2]] # notice duplicated last dimension array([[ 1., 1., 1., 1.], [ 1., 1., 1., 1.], [ 1., 1., 1., 1.]])\n",
    ">>> y=x[:,[0,1,2,2]] # same as above, but do assign it to y\n",
    "However, ifwe start over and construct y by slicing (whichmakes it a view) as shown below, then the change we made does affect y because a view is just a window into the same memory.\n",
    ">>> x = np.ones((3,3)) >>> y = x[:2,:2] # view of upper left piece >>> x[0,0] = 999 # change value >>> x\n",
    "array([[ 999., 1., 1.], # see the change? [ 1., 1., 1.], [ 1., 1., 1.]])\n",
    ">>> y\n",
    "array([[ 999., 1.], # changed y also! [ 1., 1.]])\n",
    "Note that if you want to explicitly force a copy without any indexing tricks, you can do y=x.copy().\n"
   ],
   "metadata": {
    "collapsed": false,
    "pycharm": {
     "name": "#%%\n"
    }
   }
  },
  {
   "cell_type": "code",
   "execution_count": null,
   "outputs": [],
   "source": [
    " A reduce repeatedly applies a given operation to the elements of an array until only a single result remains.\n",
    "\n",
    "For example, calling reduce on the add ufunc returns the sum of all elements in the array:\n",
    "\n",
    "26\n",
    "x = np.arange(1, 6)\n",
    "np.add.reduce(x)\n",
    "26\n",
    "15\n",
    "Similarly, calling reduce on the multiply ufunc results in the product of all array elements:\n",
    "\n",
    "27\n",
    "np.multiply.reduce(x)\n",
    "27\n",
    "120\n",
    "If we'd like to store all the intermediate results of the computation, we can instead use accumulate:\n",
    "\n",
    "28\n",
    "np.add.accumulate(x)\n",
    "28\n",
    "array([ 1,  3,  6, 10, 15])\n",
    "29\n",
    "np.multiply.accumulate(x)"
   ],
   "metadata": {
    "collapsed": false,
    "pycharm": {
     "name": "#%%\n"
    }
   }
  }
 ],
 "metadata": {
  "kernelspec": {
   "name": "python3",
   "language": "python",
   "display_name": "Python 3"
  },
  "language_info": {
   "codemirror_mode": {
    "name": "ipython",
    "version": 2
   },
   "file_extension": ".py",
   "mimetype": "text/x-python",
   "name": "python",
   "nbconvert_exporter": "python",
   "pygments_lexer": "ipython2",
   "version": "2.7.6"
  }
 },
 "nbformat": 4,
 "nbformat_minor": 0
}