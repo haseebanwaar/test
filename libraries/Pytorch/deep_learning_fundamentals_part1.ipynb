{
 "nbformat": 4,
 "nbformat_minor": 0,
 "metadata": {
  "colab": {
   "name": "deep_learning_fundamentals_part1",
   "provenance": [],
   "collapsed_sections": [],
   "toc_visible": true
  },
  "kernelspec": {
   "name": "python3",
   "language": "python",
   "display_name": "Python 3"
  },
  "accelerator": "GPU"
 },
 "cells": [
  {
   "cell_type": "markdown",
   "metadata": {
    "id": "sqVW5Nezc8GZ"
   },
   "source": [
    "# Deep Learning Fundamentals - Part 1"
   ]
  },
  {
   "cell_type": "markdown",
   "metadata": {
    "id": "T2qszXPfdAsP"
   },
   "source": [
    "## Colab environment"
   ]
  },
  {
   "cell_type": "code",
   "metadata": {
    "id": "EGkS6nN6dQaz",
    "colab": {
     "base_uri": "https://localhost:8080/"
    },
    "outputId": "188b936c-e5a7-43e4-d8b8-d2a050dc0009"
   },
   "source": [
    "!python --version\n"
   ],
   "execution_count": 1,
   "outputs": [
    {
     "name": "stdout",
     "output_type": "stream",
     "text": [
      "Python 3.7.6\n"
     ]
    }
   ]
  },
  {
   "cell_type": "code",
   "execution_count": 2,
   "outputs": [
    {
     "name": "stdout",
     "output_type": "stream",
     "text": [
      "Package               Version  \n",
      "--------------------- ---------\n",
      "-umpy                 1.18.1   \n",
      "absl-py               0.9.0    \n",
      "argon2-cffi           20.1.0   \n",
      "asn1crypto            1.4.0    \n",
      "astor                 0.8.1    \n",
      "async-generator       1.10     \n",
      "atomicwrites          1.4.0    \n",
      "attrs                 20.2.0   \n",
      "Automat               20.2.0   \n",
      "backcall              0.2.0    \n",
      "beautifulsoup4        4.9.3    \n",
      "bleach                3.2.1    \n",
      "blis                  0.4.1    \n",
      "bokeh                 2.2.3    \n",
      "brewer2mpl            1.4.1    \n",
      "brotlipy              0.7.0    \n",
      "bs4                   0.0.1    \n",
      "cachetools            4.0.0    \n",
      "catalogue             1.0.0    \n",
      "certifi               2020.12.5\n",
      "cffi                  1.14.3   \n",
      "chardet               3.0.4    \n",
      "click                 7.1.2    \n",
      "colorama              0.4.3    \n",
      "constantly            15.1.0   \n",
      "cryptography          2.7      \n",
      "cssselect             1.1.0    \n",
      "cycler                0.10.0   \n",
      "cymem                 2.0.3    \n",
      "deap                  1.3.1    \n",
      "decorator             4.4.2    \n",
      "defusedxml            0.6.0    \n",
      "entrypoints           0.3      \n",
      "Flask                 1.1.2    \n",
      "future                0.18.2   \n",
      "fuzzywuzzy            0.18.0   \n",
      "gast                  0.2.2    \n",
      "ggplot                0.11.5   \n",
      "google-auth           1.13.1   \n",
      "google-auth-oauthlib  0.4.1    \n",
      "google-pasta          0.2.0    \n",
      "grpcio                1.27.2   \n",
      "h5py                  2.10.0   \n",
      "hyperlink             19.0.0   \n",
      "hypothesis            4.34.0   \n",
      "idna                  2.10     \n",
      "imgviz                1.2.2    \n",
      "importlib-metadata    1.7.0    \n",
      "incremental           17.5.0   \n",
      "ipykernel             5.3.4    \n",
      "ipython               7.18.1   \n",
      "ipython-genutils      0.2.0    \n",
      "ipywidgets            7.5.1    \n",
      "itemadapter           0.1.0    \n",
      "itsdangerous          1.1.0    \n",
      "jedi                  0.17.2   \n",
      "jellyfish             0.8.2    \n",
      "Jinja2                2.11.2   \n",
      "joblib                1.0.0    \n",
      "jsonschema            3.2.0    \n",
      "jupyter               1.0.0    \n",
      "jupyter-client        6.1.7    \n",
      "jupyter-console       6.2.0    \n",
      "jupyter-core          4.6.3    \n",
      "jupyterlab-pygments   0.1.2    \n",
      "Keras                 2.4.3    \n",
      "Keras-Applications    1.0.8    \n",
      "Keras-Preprocessing   1.1.0    \n",
      "kiwisolver            1.3.0    \n",
      "knnimpute             0.1.0    \n",
      "labelme               4.5.6    \n",
      "llvmlite              0.35.0   \n",
      "lxml                  4.5.2    \n",
      "m2cgen                0.7.0    \n",
      "Markdown              3.2.1    \n",
      "MarkupSafe            1.1.1    \n",
      "matplotlib            3.1.1    \n",
      "memory-profiler       0.57.0   \n",
      "missingno             0.4.2    \n",
      "mistune               0.8.4    \n",
      "mkl-fft               1.0.15   \n",
      "mkl-random            1.1.0    \n",
      "mkl-service           2.3.0    \n",
      "more-itertools        7.2.0    \n",
      "murmurhash            1.0.2    \n",
      "nbclient              0.5.0    \n",
      "nbconvert             6.0.7    \n",
      "nbformat              5.0.7    \n",
      "nest-asyncio          1.4.1    \n",
      "networkx              2.3      \n",
      "nltk                  3.4.5    \n",
      "notebook              6.1.4    \n",
      "numba                 0.52.0   \n",
      "numpy                 1.19.1   \n",
      "nxviz                 0.6.2    \n",
      "oauthlib              3.1.0    \n",
      "olefile               0.46     \n",
      "opt-einsum            3.2.0    \n",
      "osqp                  0.6.1    \n",
      "packaging             20.4     \n",
      "palettable            3.1.1    \n",
      "pandas                1.1.4    \n",
      "pandocfilters         1.4.2    \n",
      "parsel                1.6.0    \n",
      "parso                 0.7.0    \n",
      "patsy                 0.5.1    \n",
      "pickleshare           0.7.5    \n",
      "Pillow                8.1.0    \n",
      "pip                   20.0.2   \n",
      "plac                  1.1.3    \n",
      "plotly                4.12.0   \n",
      "pluggy                0.13.1   \n",
      "preshed               3.0.2    \n",
      "prometheus-client     0.8.0    \n",
      "prompt-toolkit        3.0.7    \n",
      "Protego               0.1.16   \n",
      "protobuf              3.11.3   \n",
      "psutil                5.7.2    \n",
      "py                    1.9.0    \n",
      "pyasn1                0.4.8    \n",
      "pyasn1-modules        0.2.8    \n",
      "pycparser             2.20     \n",
      "PyDispatcher          2.0.5    \n",
      "pydotplus             2.0.2    \n",
      "pyforest              1.0.3    \n",
      "Pygments              2.7.1    \n",
      "PyHamcrest            2.0.2    \n",
      "pyOpenSSL             19.1.0   \n",
      "pyparsing             2.4.6    \n",
      "PyQt5                 5.15.0   \n",
      "PyQt5-sip             12.8.1   \n",
      "pyreadline            2.1      \n",
      "pyrsistent            0.17.3   \n",
      "PySocks               1.7.1    \n",
      "pytest                5.1.2    \n",
      "python-dateutil       2.8.1    \n",
      "pytz                  2019.3   \n",
      "pywin32               227      \n",
      "pywinpty              0.5.7    \n",
      "PyYAML                5.1.2    \n",
      "pyzmq                 19.0.2   \n",
      "qtconsole             4.7.7    \n",
      "QtPy                  1.9.0    \n",
      "queuelib              1.5.0    \n",
      "recordlinkage         0.14     \n",
      "requests              2.24.0   \n",
      "requests-oauthlib     1.3.0    \n",
      "responses             0.10.8   \n",
      "retrying              1.3.3    \n",
      "rsa                   4.0      \n",
      "sas7bdat              2.2.3    \n",
      "scikit-learn          0.23.2   \n",
      "scipy                 1.4.1    \n",
      "Scrapy                2.2.1    \n",
      "seaborn               0.10.0   \n",
      "selenium              3.141.0  \n",
      "Send2Trash            1.5.0    \n",
      "service-identity      18.1.0   \n",
      "setuptools            41.2.0   \n",
      "six                   1.14.0   \n",
      "sklearn               0.0      \n",
      "soupsieve             2.0.1    \n",
      "spacy                 2.3.2    \n",
      "sphinxcontrib-fulltoc 1.2.0    \n",
      "SQLAlchemy            1.3.18   \n",
      "srsly                 1.0.2    \n",
      "statsmodels           0.11.0   \n",
      "stopit                1.1.2    \n",
      "tensorboard           2.1.1    \n",
      "tensorflow            2.1.0    \n",
      "tensorflow-estimator  2.1.0    \n",
      "termcolor             1.1.0    \n",
      "terminado             0.8.3    \n",
      "testpath              0.4.4    \n",
      "thinc                 7.4.1    \n",
      "threadpoolctl         2.1.0    \n",
      "tornado               6.0.4    \n",
      "TPOT                  0.11.5   \n",
      "tqdm                  4.48.2   \n",
      "traitlets             5.0.4    \n",
      "Twisted               20.3.0   \n",
      "typing-extensions     3.7.4.3  \n",
      "update-checker        0.18.0   \n",
      "urllib3               1.25.10  \n",
      "w3lib                 1.22.0   \n",
      "wasabi                0.8.0    \n",
      "wcwidth               0.2.5    \n",
      "webencodings          0.5.1    \n",
      "Werkzeug              1.0.1    \n",
      "wheel                 0.34.2   \n",
      "widgetsnbextension    3.5.1    \n",
      "win-inet-pton         1.1.0    \n",
      "wincertstore          0.2      \n",
      "wordcloud             1.6.0    \n",
      "wrapt                 1.12.1   \n",
      "xlrd                  1.2.0    \n",
      "zipp                  3.1.0    \n",
      "zope.interface        5.1.0    \n"
     ]
    }
   ],
   "source": [
    "!pip list"
   ],
   "metadata": {
    "collapsed": false,
    "pycharm": {
     "name": "#%%\n"
    }
   }
  },
  {
   "cell_type": "code",
   "metadata": {
    "id": "aFsweG1Ma2i6",
    "outputId": "f2306c01-e596-4240-bee8-37634da6f160",
    "colab": {
     "base_uri": "https://localhost:8080/"
    }
   },
   "source": [
    "#Does work on Colab, does it work locally?\n",
    "#!nvidia-smi"
   ],
   "execution_count": 3,
   "outputs": []
  },
  {
   "cell_type": "markdown",
   "metadata": {
    "id": "xYesROgcgEpG"
   },
   "source": [
    "## Basic numerical computing"
   ]
  },
  {
   "cell_type": "code",
   "metadata": {
    "id": "TRzh5sA_gvzQ",
    "colab": {
     "base_uri": "https://localhost:8080/"
    },
    "outputId": "24226093-84a2-42c3-bdfa-423118f3e64a"
   },
   "source": [
    "import numpy as np"
   ],
   "execution_count": 19,
   "outputs": [
    {
     "data": {
      "text/plain": "array([[0., 0.],\n       [0., 0.],\n       [0., 0.]])"
     },
     "execution_count": 19,
     "metadata": {},
     "output_type": "execute_result"
    }
   ]
  },
  {
   "cell_type": "markdown",
   "metadata": {
    "id": "fMj7DI2GpFe1"
   },
   "source": [
    "## Basic plotting"
   ]
  },
  {
   "cell_type": "code",
   "metadata": {
    "id": "kZpsb1edpIUZ",
    "colab": {
     "base_uri": "https://localhost:8080/",
     "height": 34
    },
    "outputId": "5b54cf0a-4b25-4ac4-9ee8-981295d75baa"
   },
   "source": [
    "import matplotlib.pyplot as plt\n",
    "plt.set_cmap('gray')"
   ],
   "execution_count": 144,
   "outputs": [
    {
     "data": {
      "text/plain": "<Figure size 432x288 with 0 Axes>"
     },
     "metadata": {},
     "output_type": "display_data"
    }
   ]
  },
  {
   "cell_type": "code",
   "metadata": {
    "id": "asgvFAUbpLA1",
    "colab": {
     "base_uri": "https://localhost:8080/",
     "height": 271
    },
    "outputId": "b4881baf-251a-49dd-9cf9-2bebc952de61"
   },
   "source": [
    "X = np.random.rand(100, 100)\n",
    "plt.matshow(X)\n",
    "plt.colorbar()"
   ],
   "execution_count": 145,
   "outputs": [
    {
     "data": {
      "text/plain": "<matplotlib.colorbar.Colorbar at 0x242158e6f88>"
     },
     "execution_count": 145,
     "metadata": {},
     "output_type": "execute_result"
    },
    {
     "data": {
      "text/plain": "<Figure size 288x288 with 2 Axes>",
      "image/png": "[encoded data removed]"
     },
     "metadata": {
      "needs_background": "light"
     },
     "output_type": "display_data"
    }
   ]
  },
  {
   "cell_type": "code",
   "execution_count": 169,
   "outputs": [
    {
     "data": {
      "text/plain": "[<matplotlib.lines.Line2D at 0x2421751bcc8>]"
     },
     "execution_count": 169,
     "metadata": {},
     "output_type": "execute_result"
    },
    {
     "data": {
      "text/plain": "<Figure size 432x288 with 1 Axes>",
      "image/png": "[encoded data removed]"
     },
     "metadata": {
      "needs_background": "light"
     },
     "output_type": "display_data"
    }
   ],
   "source": [
    "x = np.linspace(0, 100)\n",
    "y = x * 0.4 + 10\n",
    "\n",
    "plt.yticks(range(0,600,50))\n",
    "plt.plot(x, y, 'x-')"
   ],
   "metadata": {
    "collapsed": false,
    "pycharm": {
     "name": "#%%\n"
    }
   }
  },
  {
   "cell_type": "code",
   "metadata": {
    "id": "SvlESd_5pMY1",
    "colab": {
     "base_uri": "https://localhost:8080/",
     "height": 282
    },
    "outputId": "2a6b4a5b-922f-4e4f-b97f-4251159ebace"
   },
   "source": [
    "x = np.linspace(0, 100)\n",
    "y = x * 2 + 100\n",
    "# y = x * w + b\n",
    "\n",
    "plt.plot(x, y, 'x-')"
   ],
   "execution_count": 153,
   "outputs": [
    {
     "data": {
      "text/plain": "[<matplotlib.lines.Line2D at 0x24215c47d08>]"
     },
     "execution_count": 153,
     "metadata": {},
     "output_type": "execute_result"
    },
    {
     "data": {
      "text/plain": "<Figure size 432x288 with 1 Axes>",
      "image/png": "[encoded data removed]"
     },
     "metadata": {
      "needs_background": "light"
     },
     "output_type": "display_data"
    }
   ]
  },
  {
   "cell_type": "markdown",
   "metadata": {
    "id": "0CuuBRbRdXDJ"
   },
   "source": [
    "## Basic regression with a linear model"
   ]
  },
  {
   "cell_type": "code",
   "metadata": {
    "id": "ZhJh0fUDdIlo",
    "colab": {
     "base_uri": "https://localhost:8080/",
     "height": 299
    },
    "outputId": "6658426c-f154-4bf3-eb28-a21091b5b469"
   },
   "source": [
    "# x is 1-dimensional\n",
    "\n",
    "n = 50\n",
    "\n",
    "d = 1\n",
    "x = np.random.uniform(-1, 1, (n, d))\n",
    "\n",
    "# y = 5x + 10\n",
    "weights_true = np.array([[5],])\n",
    "bias_true = np.array([10])\n",
    "\n",
    "y_true = x @ weights_true + bias_true\n",
    "print(f'x: {x.shape}, weights: {weights_true.shape}, bias: {bias_true.shape}, y: {y_true.shape}')\n",
    "\n",
    "plt.plot(x, y_true, marker='x', label='underlying function')\n",
    "plt.legend()"
   ],
   "execution_count": null,
   "outputs": []
  },
  {
   "cell_type": "markdown",
   "metadata": {
    "id": "WKASk4TeP-Vu"
   },
   "source": [
    "### Basic prediction function: Linear"
   ]
  },
  {
   "cell_type": "code",
   "metadata": {
    "id": "rpaA6KL1AzUe",
    "colab": {
     "base_uri": "https://localhost:8080/",
     "height": 282
    },
    "outputId": "af85d4ed-1972-4d54-fd0e-758160896961"
   },
   "source": [
    "# Let's initialize our predictions\n",
    "\n",
    "class Linear:\n",
    "  def __init__(self, input_dim, num_hidden=1):\n",
    "    # The initialization is important to properly deal with different\n",
    "    # input sizes (otherwise gradients quickly go to 0).\n",
    "    self.weights = np.random.randn(input_dim, num_hidden) * np.sqrt(2. / input_dim)\n",
    "    self.bias = np.zeros(num_hidden)\n",
    "  \n",
    "  def __call__(self, x):\n",
    "    return x @ self.weights + self.bias\n",
    "\n",
    "linear = Linear(d)\n",
    "y_pred = linear(x)\n",
    "plt.plot(x, y_true, marker='x', label='underlying function')\n",
    "plt.scatter(x, y_pred, color='r', marker='.', label='our function')\n",
    "plt.legend()"
   ],
   "execution_count": null,
   "outputs": []
  },
  {
   "cell_type": "markdown",
   "metadata": {
    "id": "YtKQdlViQBm_"
   },
   "source": [
    "### Basic loss function: MSE\n"
   ]
  },
  {
   "cell_type": "code",
   "metadata": {
    "id": "AIn86q0oDNsy",
    "colab": {
     "base_uri": "https://localhost:8080/"
    },
    "outputId": "756200f6-7830-43c4-bd27-9119d23f3f60"
   },
   "source": [
    "# How wrong are these initial predictions, exactly?\n",
    "# It's up to us, and our definition is called the loss function.\n",
    "# Let's use Mean Squared Error (MSE) as our loss function.\n",
    "\n",
    "class MSE:\n",
    "  def __call__(self, y_pred, y_true):\n",
    "    self.y_pred = y_pred\n",
    "    self.y_true = y_true\n",
    "    return ((y_true - y_pred) ** 2).mean()\n",
    "  \n",
    "loss = MSE()\n",
    "print(f'Our initial loss is {loss(y_pred, y_true)}')"
   ],
   "execution_count": null,
   "outputs": []
  },
  {
   "cell_type": "markdown",
   "metadata": {
    "id": "TMJrVabQRbBp"
   },
   "source": [
    "### Add back propagation"
   ]
  },
  {
   "cell_type": "code",
   "metadata": {
    "id": "fNw1AvS0ArB3"
   },
   "source": [
    "# Let's use gradient descent to learn the weights and bias that minimizes the loss function.\n",
    "# For this, we need the gradient of the loss function and the gradients of the linear function.\n",
    "\n",
    "class MSE:\n",
    "  def __call__(self, y_pred, y_true):\n",
    "    self.y_pred = y_pred\n",
    "    self.y_true = y_true\n",
    "    return ((y_pred - y_true) ** 2).mean()\n",
    "\n",
    "  def backward(self):\n",
    "    n = self.y_true.shape[0]\n",
    "    self.gradient = 2. * (self.y_pred - self.y_true) / n\n",
    "    # print('MSE backward', self.y_pred.shape, self.y_true.shape, self.gradient.shape)\n",
    "    return self.gradient\n",
    "\n",
    "\n",
    "class Linear:\n",
    "  def __init__(self, input_dim: int, num_hidden: int = 1):\n",
    "    self.weights = np.random.randn(input_dim, num_hidden) * np.sqrt(2. / input_dim)\n",
    "    self.bias = np.zeros(num_hidden)\n",
    "  \n",
    "  def __call__(self, x):\n",
    "    self.x = x\n",
    "    output = x @ self.weights + self.bias\n",
    "    return output\n",
    "\n",
    "  def backward(self, gradient):\n",
    "    self.weights_gradient = self.x.T @ gradient\n",
    "    self.bias_gradient = gradient.sum(axis=0)\n",
    "    self.x_gradient = gradient @ self.weights.T\n",
    "    return self.x_gradient\n",
    "\n",
    "  def update(self, lr):\n",
    "    self.weights = self.weights - lr * self.weights_gradient\n",
    "    self.bias = self.bias - lr * self.bias_gradient"
   ],
   "execution_count": null,
   "outputs": []
  },
  {
   "cell_type": "code",
   "metadata": {
    "id": "8NcA_JDXJ6rR",
    "colab": {
     "base_uri": "https://localhost:8080/"
    },
    "outputId": "4b109598-71d9-41f9-82f8-262c7e5d114e"
   },
   "source": [
    "# Take one step forward and one step backward to make sure nothing breaks, and that the loss decreases.\n",
    "loss = MSE()\n",
    "linear = Linear(d)\n",
    "y_pred = linear(x)\n",
    "print(loss(y_pred, y_true))\n",
    "loss_gradient = loss.backward()\n",
    "linear.backward(loss_gradient)\n",
    "linear.update(0.1)\n",
    "y_pred = linear(x)\n",
    "print(loss(y_pred, y_true))"
   ],
   "execution_count": null,
   "outputs": []
  },
  {
   "cell_type": "markdown",
   "metadata": {
    "id": "YoyuH3gCRjGp"
   },
   "source": [
    "### Train using gradient descent!"
   ]
  },
  {
   "cell_type": "code",
   "metadata": {
    "id": "qE__Ygl2c4IS",
    "colab": {
     "base_uri": "https://localhost:8080/",
     "height": 401
    },
    "outputId": "4f6ecd59-7b83-46a4-a595-aa729e08b5dc"
   },
   "source": [
    "plt.plot(x, y_true, marker='x', label='underlying function')\n",
    "\n",
    "loss = MSE()\n",
    "linear = Linear(d)\n",
    "\n",
    "num_epochs = 40\n",
    "lr = 0.1\n",
    "\n",
    "for epoch in range(num_epochs):\n",
    "  y_pred = linear(x)\n",
    "  loss_value = loss(y_pred, y_true)\n",
    "\n",
    "  if epoch % 5 == 0:\n",
    "    print(f'Epoch {epoch}, loss {loss_value}')\n",
    "    plt.plot(x, y_pred.squeeze(), label=f'Epoch {epoch}')\n",
    "\n",
    "  gradient_from_loss = loss.backward()\n",
    "  linear.backward(gradient_from_loss)\n",
    "  linear.update(lr)\n",
    "\n",
    "plt.legend(bbox_to_anchor=(1.04, 1), loc=\"upper left\");"
   ],
   "execution_count": null,
   "outputs": []
  },
  {
   "cell_type": "markdown",
   "metadata": {
    "id": "JK1qniplRpxN"
   },
   "source": [
    "### 2-dimensional inputs work, too"
   ]
  },
  {
   "cell_type": "code",
   "metadata": {
    "id": "RWqEaOWqNbwV",
    "colab": {
     "base_uri": "https://localhost:8080/",
     "height": 282
    },
    "outputId": "05dc9030-9622-499b-c218-f23e45a23a8a"
   },
   "source": [
    "# What about 2-dimensional x?\n",
    "\n",
    "n = 100\n",
    "d = 2\n",
    "x = np.random.uniform(-1, 1, (n, d))\n",
    "\n",
    "# y = w * x + b\n",
    "# y = w_0 * x_0 + w_1 * x_1 + b\n",
    "# y = w@x + b\n",
    "\n",
    "weights_true = np.array([[2, -1], ]).T\n",
    "bias_true = np.array([0.5])\n",
    "print(x.shape, weights_true.shape, bias_true.shape)\n",
    "\n",
    "y_true = x @ weights_true + bias_true\n",
    "print(f'x: {x.shape}, weights: {weights_true.shape}, bias: {bias_true.shape}, y: {y_true.shape}')\n",
    "\n",
    "def plot_3d(x, y, y_pred=None):\n",
    "  import matplotlib.pyplot as plt\n",
    "  from mpl_toolkits.mplot3d import Axes3D\n",
    "  fig = plt.figure()\n",
    "  ax = fig.add_subplot(111, projection='3d')\n",
    "  ax.scatter(x[:, 0], x[:, 1], y, label='underlying function')\n",
    "  if y_pred is not None:\n",
    "    ax.scatter(x[:, 0], x[:, 1], y_pred, label='our function')\n",
    "  plt.legend()\n",
    "\n",
    "plot_3d(x, y_true)"
   ],
   "execution_count": null,
   "outputs": []
  },
  {
   "cell_type": "code",
   "metadata": {
    "id": "pZwGG7rAUJfe",
    "colab": {
     "base_uri": "https://localhost:8080/",
     "height": 265
    },
    "outputId": "768e5e4a-c3ee-4958-dd8a-e98a18886c6c"
   },
   "source": [
    "loss = MSE()\n",
    "linear = Linear(2)\n",
    "y_pred = linear(x)\n",
    "print(loss(y_pred, y_true))\n",
    "fig = plot_3d(x, y_true, y_pred)"
   ],
   "execution_count": null,
   "outputs": []
  },
  {
   "cell_type": "code",
   "metadata": {
    "id": "ZydPQYKIUtNT",
    "colab": {
     "base_uri": "https://localhost:8080/",
     "height": 588
    },
    "outputId": "368cae8a-9a6a-46c2-efdf-fc338ea3d6b6"
   },
   "source": [
    "from typing import Callable\n",
    "\n",
    "def fit(x: np.ndarray, y: np.ndarray, model: Callable, loss: Callable, lr: float, num_epochs: int):\n",
    "  for epoch in range(num_epochs):\n",
    "    y_pred = model(x)\n",
    "    loss_value = loss(y_pred, y)\n",
    "    print(f'Epoch {epoch}, loss {loss_value}')\n",
    "    gradient_from_loss = loss.backward()\n",
    "    model.backward(gradient_from_loss)\n",
    "    model.update(lr)\n",
    "\n",
    "fit(x, y_true, model=linear, loss=loss, lr=0.1, num_epochs=20)\n",
    "plot_3d(x, y_true, linear(x))"
   ],
   "execution_count": null,
   "outputs": []
  },
  {
   "cell_type": "markdown",
   "metadata": {
    "id": "kVZo5o9hdcia"
   },
   "source": [
    "## Basic regression with a Multi-layer Perceptron\n",
    "\n",
    "So, we now have a way to automatically fit a linear function to N-dimensional data.\n",
    "\n",
    "How can this be made to work for non-linear data?"
   ]
  },
  {
   "cell_type": "code",
   "metadata": {
    "id": "cqENhTMpdlJT",
    "colab": {
     "base_uri": "https://localhost:8080/",
     "height": 265
    },
    "outputId": "a2a27ec5-5154-4028-808b-fece1a29259a"
   },
   "source": [
    "# Make non-linear data\n",
    "\n",
    "n = 200\n",
    "d = 2\n",
    "x = np.random.uniform(-1, 1, (n, d))\n",
    "\n",
    "weights_true = np.array([[5, 1],]).T\n",
    "bias_true = np.array([1])\n",
    "\n",
    "y_true = (x ** 2) @ weights_true + x @ weights_true + bias_true\n",
    "print(f'x: {x.shape}, weights: {weights_true.shape}, bias: {bias_true.shape}, y: {y_true.shape}')\n",
    "\n",
    "plot_3d(x, y_true)"
   ],
   "execution_count": null,
   "outputs": []
  },
  {
   "cell_type": "code",
   "metadata": {
    "id": "UgbM2NMJYswq",
    "colab": {
     "base_uri": "https://localhost:8080/",
     "height": 928
    },
    "outputId": "a32c91ce-f04b-455f-bfa0-a813ce409aff"
   },
   "source": [
    "# We can train just fine, but the final loss will remain high, as our linear function is incapable\n",
    "# of representing the data.\n",
    "\n",
    "loss = MSE()\n",
    "linear = Linear(d)\n",
    "fit(x, y_true, model=linear, loss=loss, lr=0.1, num_epochs=40)\n",
    "plot_3d(x, y_true, linear(x))"
   ],
   "execution_count": null,
   "outputs": []
  },
  {
   "cell_type": "markdown",
   "metadata": {
    "id": "1-QK1DGMVFmV"
   },
   "source": [
    "### Add non-linearity: ReLU"
   ]
  },
  {
   "cell_type": "code",
   "metadata": {
    "id": "hhGZIvzkYzar",
    "colab": {
     "base_uri": "https://localhost:8080/"
    },
    "outputId": "6c87b0c3-81c3-4845-e8e6-5466f5026184"
   },
   "source": [
    "# In order to learn non-linear functions, we need non-linearities in our model.\n",
    "\n",
    "class Relu:\n",
    "    def __call__(self, input_):\n",
    "        self.input_ = input_\n",
    "        self.output = np.clip(self.input_, 0, None)\n",
    "        return self.output\n",
    "    \n",
    "    def backward(self, output_gradient):\n",
    "      # import pdb; pdb.set_trace()  # By the way, this is how you can debug\n",
    "      self.input_gradient = (self.input_ > 0) * output_gradient\n",
    "      return self.input_gradient\n",
    "\n",
    "\n",
    "relu = Relu()\n",
    "input_ = np.expand_dims(np.array([1, 0.5, 0, -0.5, -1]), -1)\n",
    "print(relu(input_))\n",
    "print(relu.backward(input_))"
   ],
   "execution_count": null,
   "outputs": []
  },
  {
   "cell_type": "markdown",
   "metadata": {
    "id": "c67k16FsVQUj"
   },
   "source": [
    "### Train our new non-linear model"
   ]
  },
  {
   "cell_type": "code",
   "metadata": {
    "id": "hyKYKhm0ZunK",
    "colab": {
     "base_uri": "https://localhost:8080/",
     "height": 265
    },
    "outputId": "eb47c706-80b2-4ef7-989d-cf4b0d01d56e"
   },
   "source": [
    "class Model:\n",
    "  def __init__(self, input_dim, num_hidden):\n",
    "    self.linear1 = Linear(input_dim, num_hidden)\n",
    "    self.relu = Relu()\n",
    "    self.linear2 = Linear(num_hidden, 1)\n",
    "  \n",
    "  def __call__(self, x):\n",
    "    l1 = self.linear1(x)\n",
    "    r = self.relu(l1)\n",
    "    l2 = self.linear2(r)\n",
    "    return l2\n",
    "  \n",
    "  def backward(self, output_gradient):\n",
    "    linear2_gradient = self.linear2.backward(output_gradient)\n",
    "    relu_gradient = self.relu.backward(linear2_gradient)\n",
    "    linear1_gradient = self.linear1.backward(relu_gradient)\n",
    "    # print('Model backward', linear2_gradient.shape, relu_gradient.shape, linear1_gradient.shape)\n",
    "    # import pdb; pdb.set_trace()\n",
    "    return linear1_gradient\n",
    "\n",
    "  def update(self, lr):\n",
    "    self.linear2.update(lr)\n",
    "    self.linear1.update(lr)\n",
    "\n",
    "loss = MSE()\n",
    "model = Model(d, 10)\n",
    "y_pred = model(x)\n",
    "loss_value = loss(y_pred, y_true)\n",
    "loss_gradient = loss.backward()\n",
    "print(loss_value)\n",
    "model.backward(loss_gradient)\n",
    "plot_3d(x, y_true, y_pred)"
   ],
   "execution_count": null,
   "outputs": []
  },
  {
   "cell_type": "code",
   "metadata": {
    "id": "fKJ4L0-WfYrd",
    "colab": {
     "base_uri": "https://localhost:8080/"
    },
    "outputId": "8484df11-cdc2-40f7-8441-cef64ebcf4bd"
   },
   "source": [
    "# Test just one forward and backward step\n",
    "loss = MSE()\n",
    "model = Model(d, 10)\n",
    "y_pred = model(x)\n",
    "loss_value = loss(y_pred, y_true)\n",
    "print(loss_value)\n",
    "loss_gradient = loss.backward()\n",
    "model.backward(loss_gradient)\n",
    "model.update(0.1)\n",
    "y_pred = model(x)\n",
    "loss_value = loss(y_pred, y_true)\n",
    "print(loss_value)"
   ],
   "execution_count": null,
   "outputs": []
  },
  {
   "cell_type": "code",
   "metadata": {
    "id": "wllnmL6Sbsh6",
    "colab": {
     "base_uri": "https://localhost:8080/",
     "height": 928
    },
    "outputId": "f634d39c-58cd-4e95-fa91-1cd139c6d81c"
   },
   "source": [
    "fit(x, y_true, model=model, loss=loss, lr=0.1, num_epochs=40)\n",
    "plot_3d(x, y_true, model(x))"
   ],
   "execution_count": null,
   "outputs": []
  },
  {
   "cell_type": "markdown",
   "metadata": {
    "id": "vq0Z_14tdra9"
   },
   "source": [
    "### Same thing, in PyTorch"
   ]
  },
  {
   "cell_type": "code",
   "metadata": {
    "colab": {
     "base_uri": "https://localhost:8080/"
    },
    "id": "oUzGijLkOUiy",
    "outputId": "18e32079-c249-4dbf-bb02-8e59e7fe4521"
   },
   "source": [
    "import torch\n",
    "import torch.nn as nn\n",
    "\n",
    "\n",
    "class TorchModel(nn.Module):\n",
    "  def __init__(self, input_dim, num_hidden):\n",
    "    super().__init__()\n",
    "    self.linear1 = nn.Linear(input_dim, num_hidden)\n",
    "    self.relu = nn.ReLU()\n",
    "    self.linear2 = nn.Linear(num_hidden, 1)\n",
    "  \n",
    "  def forward(self, x):\n",
    "    l1 = self.linear1(x)\n",
    "    r = self.relu(l1)\n",
    "    l2 = self.linear2(r)\n",
    "    return l2\n",
    "\n",
    "\n",
    "loss = nn.MSELoss()\n",
    "model = TorchModel(d, 10)\n",
    "x_tensor = torch.tensor(x).float()\n",
    "y_true_tensor = torch.tensor(y_true).float()\n",
    "y_pred_tensor = model(x_tensor)\n",
    "loss_value = loss(y_pred_tensor, y_true_tensor)\n",
    "print(loss_value)"
   ],
   "execution_count": null,
   "outputs": []
  },
  {
   "cell_type": "code",
   "metadata": {
    "colab": {
     "base_uri": "https://localhost:8080/"
    },
    "id": "qDoKS0BBYlxU",
    "outputId": "84c60291-28a0-40c1-c6d8-716e6440d798"
   },
   "source": [
    "# Test just one forward and backward step\n",
    "optimizer = torch.optim.SGD(model.parameters(), lr=0.1)\n",
    "\n",
    "optimizer.zero_grad()\n",
    "y_pred_tensor = model(x_tensor)\n",
    "loss_value = loss(y_pred_tensor, y_true_tensor)\n",
    "print(loss_value)\n",
    "loss_gradient = loss_value.backward()\n",
    "optimizer.step()\n",
    "\n",
    "y_pred_tensor = model(x_tensor)\n",
    "loss_value = loss(y_pred_tensor, y_true_tensor)\n",
    "print(loss_value)"
   ],
   "execution_count": null,
   "outputs": []
  },
  {
   "cell_type": "code",
   "metadata": {
    "colab": {
     "base_uri": "https://localhost:8080/",
     "height": 928
    },
    "id": "Yx8hOdiRcIEJ",
    "outputId": "5682aabf-8e5a-4390-a636-b093fbf6b315"
   },
   "source": [
    "# Now we run the training loop\n",
    "\n",
    "def torch_fit(x: np.ndarray, y: np.ndarray, model: Callable, loss: Callable, lr: float, num_epochs: int):\n",
    "  optimizer = torch.optim.SGD(model.parameters(), lr=lr)\n",
    "  for epoch in range(num_epochs):\n",
    "    optimizer.zero_grad()\n",
    "    y_pred_tensor = model(x_tensor)\n",
    "    loss_value = loss(y_pred_tensor, y_true_tensor)\n",
    "    print(loss_value)\n",
    "    loss_value.backward()\n",
    "    optimizer.step()\n",
    "\n",
    "torch_fit(x_tensor, y_true_tensor, model=model, loss=loss, lr=0.1, num_epochs=40)\n",
    "plot_3d(x, y_true, model(x_tensor).detach())"
   ],
   "execution_count": null,
   "outputs": []
  },
  {
   "cell_type": "markdown",
   "metadata": {
    "id": "Wo5zDlScdl4s"
   },
   "source": [
    "### Same thing, in Tensorflow/Keras"
   ]
  },
  {
   "cell_type": "code",
   "metadata": {
    "id": "HDoGEt6RnvCU",
    "colab": {
     "base_uri": "https://localhost:8080/",
     "height": 843
    },
    "outputId": "fea43c55-34f9-4c9c-ff0d-446c4853e280"
   },
   "source": [
    "from tensorflow import keras\n",
    "from tensorflow.keras import layers\n",
    "from tensorflow.keras import optimizers\n",
    "\n",
    "inputs = keras.Input(shape=(2,))\n",
    "l1 = layers.Dense(10, activation='relu', name='dense_1')(inputs)\n",
    "outputs = layers.Dense(1, name='regression')(l1)\n",
    "\n",
    "model = keras.Model(inputs=inputs, outputs=outputs)\n",
    "print(model.summary())\n",
    "model.compile(loss='mse', optimizer=optimizers.SGD(0.1))\n",
    "\n",
    "model.fit(x, y_true, epochs=10)\n",
    "\n",
    "y_pred = model.predict(x)\n",
    "\n",
    "plot_3d(x, y_true, model(x))"
   ],
   "execution_count": null,
   "outputs": []
  }
 ]
}