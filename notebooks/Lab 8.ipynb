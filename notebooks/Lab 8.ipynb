{
 "cells": [
  {
   "cell_type": "markdown",
   "source": [
    "##Assignment\n",
    "## Name: Haseeb Anwaar\n",
    "## SapID: 24716\n",
    "#### Tools And Techniques In Data Science\n",
    "\n",
    "\n",
    "\n",
    "#### Submitted to\n",
    "## Mr. Faisal Asad ur Rehman"
   ],
   "metadata": {
    "collapsed": false
   }
  },
  {
   "cell_type": "code",
   "source": [
    "# Load libraries\n",
    "import pandas as pd\n",
    "from sklearn.tree import DecisionTreeClassifier # Import Decision Tree Classifier\n",
    "from sklearn.model_selection import train_test_split # Import train_test_split function\n",
    "from sklearn import metrics #Import scikit-learn metrics module for accuracy calculation\n"
   ],
   "metadata": {
    "collapsed": false,
    "pycharm": {
     "name": "#%%\n"
    }
   },
   "execution_count": null,
   "outputs": []
  },
  {
   "cell_type": "code",
   "execution_count": null,
   "outputs": [],
   "source": [
    "col_names = ['pregnant', 'glucose', 'bp', 'skin', 'insulin', 'bmi', 'pedigree', 'age', 'label']\n",
    "# load dataset\n",
    "pima = pd.read_csv(\"../diabetes.csv\", header=None, names=col_names)\n",
    "\n",
    "\n",
    "pima.drop(pima.head(1).index, inplace=True)"
   ],
   "metadata": {
    "collapsed": false,
    "pycharm": {
     "name": "#%%\n"
    }
   }
  },
  {
   "cell_type": "code",
   "execution_count": null,
   "outputs": [],
   "source": [
    "#split dataset in features and target variable\n",
    "feature_cols = ['pregnant', 'insulin', 'bmi', 'age','glucose','bp','pedigree']\n",
    "X = pima[feature_cols] # Features\n",
    "y = pima.label # Target variable"
   ],
   "metadata": {
    "collapsed": false,
    "pycharm": {
     "name": "#%%\n"
    }
   }
  },
  {
   "cell_type": "code",
   "execution_count": null,
   "outputs": [],
   "source": [
    "# Split dataset into training set and test set\n",
    "X_train, X_test, y_train, y_test = train_test_split(X, y, test_size=0.2, random_state=1)\n",
    "# here we split 80% data for training"
   ],
   "metadata": {
    "collapsed": false,
    "pycharm": {
     "name": "#%%\n"
    }
   }
  },
  {
   "cell_type": "code",
   "execution_count": null,
   "outputs": [],
   "source": [
    "# finding best hyper-parameters\n",
    "criteria = ['entropy','gini']\n",
    "max_depth = [*range(1,10)]"
   ],
   "metadata": {
    "collapsed": false,
    "pycharm": {
     "name": "#%%\n"
    }
   }
  },
  {
   "cell_type": "code",
   "execution_count": 167,
   "outputs": [
    {
     "name": "stdout",
     "output_type": "stream",
     "text": [
      "Best accuracy of '0.8051948051948052' achieved with criterion: 'entropy' and max_depth '4' \n"
     ]
    }
   ],
   "source": [
    "accuracy = (0,0,0)\n",
    "for crt in criteria:\n",
    "    for max_d in max_depth:\n",
    "\n",
    "\n",
    "# Create Decision Tree classifer object\n",
    "        clf = DecisionTreeClassifier(criterion=crt, max_depth=max_d, random_state=22)\n",
    "\n",
    "# Train Decision Tree Classifer\n",
    "        clf = clf.fit(X_train,y_train)\n",
    "\n",
    "#Predict the response for test dataset\n",
    "        y_pred = clf.predict(X_test)\n",
    "        a = metrics.accuracy_score(y_test, y_pred)\n",
    "        if a>accuracy[0] :\n",
    "            accuracy = (a,crt,max_d)\n",
    "\n",
    "# Model Accuracy, how often is the classifier correct?\n",
    "print(f\"Best accuracy of '{accuracy[0]}' achieved with criterion:\"\n",
    "      f\" '{accuracy[1]}' and max_depth '{accuracy[2]}' \")\n"
   ],
   "metadata": {
    "collapsed": false,
    "pycharm": {
     "name": "#%%\n"
    }
   }
  }
 ],
 "metadata": {
  "hide_input": false,
  "kernelspec": {
   "display_name": "Python 3",
   "language": "python",
   "name": "python3"
  },
  "language_info": {
   "codemirror_mode": {
    "name": "ipython",
    "version": 3
   },
   "file_extension": ".py",
   "mimetype": "text/x-python",
   "name": "python",
   "nbconvert_exporter": "python",
   "pygments_lexer": "ipython3",
   "version": "3.7.4"
  }
 },
 "nbformat": 4,
 "nbformat_minor": 2
}